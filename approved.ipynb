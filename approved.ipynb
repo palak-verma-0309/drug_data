{
 "cells": [
  {
   "cell_type": "code",
   "execution_count": 1,
   "id": "ff479c11",
   "metadata": {},
   "outputs": [],
   "source": [
    "import pandas as pd\n",
    "from sklearn.preprocessing import LabelEncoder\n",
    "df = pd.read_csv('drug_data.csv')\n",
    "le = LabelEncoder()\n",
    "df['approval_status_encoded'] = le.fit_transform(df['approval_status'])\n"
   ]
  },
  {
   "cell_type": "code",
   "execution_count": 2,
   "id": "86b3022e",
   "metadata": {},
   "outputs": [],
   "source": [
    "df = df.drop(['drug_name', 'batch_number', 'expiry_date', 'approval_status'], axis=1)"
   ]
  },
  {
   "cell_type": "code",
   "execution_count": 3,
   "id": "bd57ab06",
   "metadata": {},
   "outputs": [],
   "source": [
    "df_encoded = pd.get_dummies(df, drop_first=True)\n"
   ]
  },
  {
   "cell_type": "code",
   "execution_count": 4,
   "id": "06dfc28a",
   "metadata": {},
   "outputs": [],
   "source": [
    "severity_map = {'Mild': 1, 'Moderate': 2, 'Severe': 3}\n",
    "df['side_effect_severity_num'] = df['side_effect_severity'].map(severity_map)\n"
   ]
  },
  {
   "cell_type": "code",
   "execution_count": 5,
   "id": "8e65c710",
   "metadata": {},
   "outputs": [],
   "source": [
    "df['num_side_effects'] = df['side_effects'].astype(str).apply(lambda x: len(x.split(',')))\n",
    "df['risk_score'] = df['num_side_effects'] * df['side_effect_severity_num']\n"
   ]
  },
  {
   "cell_type": "code",
   "execution_count": 6,
   "id": "f182688b",
   "metadata": {},
   "outputs": [],
   "source": [
    "df = df.drop(['side_effects', 'side_effect_severity'], axis=1)\n",
    "df_encoded = pd.get_dummies(df, drop_first=True)\n",
    "X = df_encoded.drop('approval_status_encoded', axis=1)\n",
    "y = df_encoded['approval_status_encoded']"
   ]
  },
  {
   "cell_type": "code",
   "execution_count": 7,
   "id": "b28000f1",
   "metadata": {},
   "outputs": [],
   "source": [
    "from sklearn.model_selection import train_test_split\n",
    "X_train, X_test, y_train, y_test = train_test_split(\n",
    "    X, y, test_size=0.2, random_state=42, stratify=y\n",
    ")"
   ]
  },
  {
   "cell_type": "code",
   "execution_count": 8,
   "id": "7c92c7b0",
   "metadata": {},
   "outputs": [
    {
     "name": "stdout",
     "output_type": "stream",
     "text": [
      "Accuracy (Improved Random Forest): 0.3854166666666667\n",
      "Classification Report:\n",
      "               precision    recall  f1-score   support\n",
      "\n",
      "           0       0.36      0.29      0.32        93\n",
      "           1       0.38      0.41      0.39        99\n",
      "           2       0.42      0.45      0.43        96\n",
      "\n",
      "    accuracy                           0.39       288\n",
      "   macro avg       0.38      0.38      0.38       288\n",
      "weighted avg       0.38      0.39      0.38       288\n",
      "\n"
     ]
    }
   ],
   "source": [
    "from sklearn.ensemble import RandomForestClassifier\n",
    "from sklearn.metrics import accuracy_score, classification_report\n",
    "rf_model = RandomForestClassifier(random_state=42)\n",
    "rf_model.fit(X_train, y_train)\n",
    "y_pred_rf = rf_model.predict(X_test)\n",
    "\n",
    "print(\"Accuracy (Improved Random Forest):\", accuracy_score(y_test, y_pred_rf))\n",
    "print(\"Classification Report:\\n\", classification_report(y_test, y_pred_rf))\n"
   ]
  }
 ],
 "metadata": {
  "kernelspec": {
   "display_name": "Python 3",
   "language": "python",
   "name": "python3"
  },
  "language_info": {
   "codemirror_mode": {
    "name": "ipython",
    "version": 3
   },
   "file_extension": ".py",
   "mimetype": "text/x-python",
   "name": "python",
   "nbconvert_exporter": "python",
   "pygments_lexer": "ipython3",
   "version": "3.11.4"
  }
 },
 "nbformat": 4,
 "nbformat_minor": 5
}
